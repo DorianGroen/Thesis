{
  "nbformat": 4,
  "nbformat_minor": 0,
  "metadata": {
    "colab": {
      "name": "Evaluation_on_new_data.ipynb",
      "provenance": [],
      "collapsed_sections": []
    },
    "kernelspec": {
      "name": "python3",
      "display_name": "Python 3"
    },
    "language_info": {
      "name": "python"
    }
  },
  "cells": [
    {
      "cell_type": "code",
      "metadata": {
        "colab": {
          "base_uri": "https://localhost:8080/"
        },
        "id": "LjONwhi7AgHn",
        "outputId": "fc4a0b6e-debc-4353-d0d0-07d63eab942d"
      },
      "source": [
        "from google.colab import drive\n",
        "drive.mount('/content/gdrive')"
      ],
      "execution_count": 1,
      "outputs": [
        {
          "output_type": "stream",
          "text": [
            "Mounted at /content/gdrive\n"
          ],
          "name": "stdout"
        }
      ]
    },
    {
      "cell_type": "code",
      "metadata": {
        "id": "4L28PnRTApkz"
      },
      "source": [
        "# Import needed packages\n",
        "import tensorflow as tf\n",
        "from tensorflow import keras\n",
        "from keras.models import Model, load_model\n",
        "from keras.preprocessing.image import ImageDataGenerator, DirectoryIterator\n",
        "from keras.applications.resnet import preprocess_input as pre_res\n",
        "from keras.applications.densenet import preprocess_input as pre_dense\n",
        "from sklearn.metrics import confusion_matrix, plot_confusion_matrix\n",
        "from keras import optimizers"
      ],
      "execution_count": 2,
      "outputs": []
    },
    {
      "cell_type": "code",
      "metadata": {
        "id": "mMVsxRgVApgU"
      },
      "source": [
        "main_path = '/content/gdrive/My Drive/Thesis/Data/COVID-classification/'\n",
        "test_path_org = main_path+'test_new/'\n",
        "test_path_mask = main_path+'Ex_test/'"
      ],
      "execution_count": 3,
      "outputs": []
    },
    {
      "cell_type": "code",
      "metadata": {
        "id": "4Hy47uOIApTV"
      },
      "source": [
        "model_path = '/content/gdrive/My Drive/Thesis/models/'\n",
        "\n",
        "with tf.device('/device:GPU:0'):\n",
        "  ResNet = load_model(model_path+'ResNet-1.h5', compile=False)\n",
        "  ResNet_mask = load_model(model_path+'ResNet_masks-1.h5', compile=False)\n",
        "  DenseNet = load_model(model_path+'DenseNet-1.h5', compile=False)\n",
        "  DenseNet_mask = load_model(model_path+'DenseNet_masks-1.h5', compile=False)"
      ],
      "execution_count": 4,
      "outputs": []
    },
    {
      "cell_type": "code",
      "metadata": {
        "id": "8ijpa1bYBfBD"
      },
      "source": [
        "model = DenseNet_mask"
      ],
      "execution_count": 5,
      "outputs": []
    },
    {
      "cell_type": "code",
      "metadata": {
        "id": "l-HWiZ34FTLE"
      },
      "source": [
        "datagen = ImageDataGenerator(\n",
        "    preprocessing_function=pre_dense)"
      ],
      "execution_count": 6,
      "outputs": []
    },
    {
      "cell_type": "code",
      "metadata": {
        "colab": {
          "base_uri": "https://localhost:8080/"
        },
        "id": "HrvT8sg8ApQV",
        "outputId": "e57c3414-e668-4d42-96cd-16f52be1a40b"
      },
      "source": [
        "test_set = DirectoryIterator(test_path_org,\n",
        "                            datagen,\n",
        "                            target_size = (512, 512),\n",
        "                            batch_size = 32,\n",
        "                            class_mode = 'binary',\n",
        "                            shuffle = False)"
      ],
      "execution_count": 7,
      "outputs": [
        {
          "output_type": "stream",
          "text": [
            "Found 3794 images belonging to 2 classes.\n"
          ],
          "name": "stdout"
        }
      ]
    },
    {
      "cell_type": "code",
      "metadata": {
        "colab": {
          "base_uri": "https://localhost:8080/"
        },
        "id": "OPgXjNybApLL",
        "outputId": "1af46641-932f-4a72-b102-4f74da75fe60"
      },
      "source": [
        "test_set_mask = DirectoryIterator(test_path_mask,\n",
        "                            datagen,\n",
        "                            target_size = (512, 512),\n",
        "                            batch_size = 32,\n",
        "                            class_mode = 'binary',\n",
        "                            shuffle = False)"
      ],
      "execution_count": 8,
      "outputs": [
        {
          "output_type": "stream",
          "text": [
            "Found 3794 images belonging to 2 classes.\n"
          ],
          "name": "stdout"
        }
      ]
    },
    {
      "cell_type": "code",
      "metadata": {
        "id": "Ofsy1UmyApFy"
      },
      "source": [
        "with tf.device('/device:GPU:0'):\n",
        "  y_pred = model.predict(test_set_mask)"
      ],
      "execution_count": 9,
      "outputs": []
    },
    {
      "cell_type": "code",
      "metadata": {
        "colab": {
          "base_uri": "https://localhost:8080/"
        },
        "id": "zUsB3lBIWjIb",
        "outputId": "e2b1aaa1-847c-46f7-edd9-456b07f7f1a8"
      },
      "source": [
        "confusion_matrix(test_set_mask.labels, y_pred.round())"
      ],
      "execution_count": 17,
      "outputs": [
        {
          "output_type": "execute_result",
          "data": {
            "text/plain": [
              "array([[1755,  193],\n",
              "       [1629,  217]])"
            ]
          },
          "metadata": {
            "tags": []
          },
          "execution_count": 17
        }
      ]
    },
    {
      "cell_type": "code",
      "metadata": {
        "id": "1JLdmRt4W6HL"
      },
      "source": [
        "adam = optimizers.Adam()\n",
        "model.compile(loss='binary_crossentropy',\n",
        "              optimizer=adam,\n",
        "              metrics=['accuracy'])"
      ],
      "execution_count": 11,
      "outputs": []
    },
    {
      "cell_type": "code",
      "metadata": {
        "colab": {
          "base_uri": "https://localhost:8080/"
        },
        "id": "4oe4sV7iApCE",
        "outputId": "2155a90c-9bb8-4d5c-8fd5-c283d70b5311"
      },
      "source": [
        "# original data\n",
        "with tf.device('/device:GPU:0'):\n",
        "  model.evaluate(test_set)"
      ],
      "execution_count": 12,
      "outputs": [
        {
          "output_type": "stream",
          "text": [
            "119/119 [==============================] - 2701s 22s/step - loss: 0.8844 - accuracy: 0.7922\n"
          ],
          "name": "stdout"
        }
      ]
    },
    {
      "cell_type": "code",
      "metadata": {
        "id": "oE4O_STMAo8o",
        "colab": {
          "base_uri": "https://localhost:8080/"
        },
        "outputId": "b8c3fe92-ad6f-46b5-bcc8-a0d7345a014f"
      },
      "source": [
        "with tf.device('/device:GPU:0'):\n",
        "  model.evaluate(test_set_mask)"
      ],
      "execution_count": 15,
      "outputs": [
        {
          "output_type": "stream",
          "text": [
            "119/119 [==============================] - 2690s 23s/step - loss: 1.6867 - accuracy: 0.5198\n"
          ],
          "name": "stdout"
        }
      ]
    }
  ]
}