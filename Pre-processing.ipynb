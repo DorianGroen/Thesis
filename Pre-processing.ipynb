{
  "nbformat": 4,
  "nbformat_minor": 0,
  "metadata": {
    "colab": {
      "name": "pre_COVID_classification.ipynb",
      "provenance": [],
      "collapsed_sections": []
    },
    "kernelspec": {
      "name": "python3",
      "display_name": "Python 3"
    },
    "language_info": {
      "name": "python"
    },
    "accelerator": "GPU"
  },
  "cells": [
    {
      "cell_type": "code",
      "metadata": {
        "id": "w2QH2ZZZbaFs",
        "colab": {
          "base_uri": "https://localhost:8080/"
        },
        "outputId": "eeaa7c1e-ba13-4bb9-dbd7-bc8921fa39f1"
      },
      "source": [
        "from google.colab import drive\n",
        "drive.mount('/content/gdrive', force_remount=True)"
      ],
      "execution_count": null,
      "outputs": [
        {
          "output_type": "stream",
          "text": [
            "Mounted at /content/gdrive\n"
          ],
          "name": "stdout"
        }
      ]
    },
    {
      "cell_type": "code",
      "metadata": {
        "id": "iqxSXsEZOSg7"
      },
      "source": [
        "import numpy as np\n",
        "import pandas as pd\n",
        "import os\n",
        "import random \n",
        "from shutil import copyfile\n",
        "import cv2\n",
        "import csv\n",
        "from PIL import Image, ImageOps\n",
        "import tensorflow as tf\n",
        "from keras.models import load_model\n",
        "import scipy as sp\n",
        "from torchvision import transforms"
      ],
      "execution_count": null,
      "outputs": []
    },
    {
      "cell_type": "code",
      "metadata": {
        "id": "_dm-FJBfPCLN"
      },
      "source": [
        "main_path = '/content/gdrive/My Drive/Thesis/Data/COVID-classification/'"
      ],
      "execution_count": null,
      "outputs": []
    },
    {
      "cell_type": "code",
      "metadata": {
        "id": "I2cQYclGOt6z"
      },
      "source": [
        "#________________Functions___________________#\n",
        "\n",
        "# function to detect large black areas in the pictures\n",
        "def find_rows_columns(im, width, height):\n",
        "    rows_found=[]\n",
        "    columns_found=[]\n",
        "    for x in range(width):\n",
        "        row = im[x, :]\n",
        "        if np.mean(row) == 0 or np.mean(row) == 255:\n",
        "            rows_found.append(x)\n",
        "    for y in range(height):\n",
        "        column = im[:,y]\n",
        "        if np.mean(column) == 0 or np.mean(column) == 255:\n",
        "            columns_found.append(y)\n",
        "    return rows_found, columns_found\n",
        "\n",
        "# function to reshape all images and normalize them\n",
        "def reshape_normalize(image,input_path,save_path,save_folder):\n",
        "    desired_size = 512\n",
        "    im = Image.open(input_path+image)\n",
        "    imn = ImageOps.grayscale(im)\n",
        "    im = np.asarray(imn)\n",
        "    # zwarte randen verwijderen\n",
        "    width, height = im.shape\n",
        "    rows, columns = find_rows_columns(im, width, height)\n",
        "    #rijen en kolommen verwijderen\n",
        "    im = np.delete(im, rows, axis=0)\n",
        "    im = np.delete(im, columns, axis=1)\n",
        "\n",
        "    #Normalizing\n",
        "    im = (im-im.mean())/im.std()    #standardiseren\n",
        "    im_a = (im-im.min())/(im.max()-im.min()) #Scalen tussen 0-1\n",
        "    im = (255.0 / im_a.max() * (im_a - im_a.min())).astype(np.uint8) #Weer van 0-255 laten lopen en als np.uint8 type voor opslaan als png\n",
        "    imn = Image.fromarray(im)\n",
        "\n",
        "    #Resize image\n",
        "    old_size = imn.size  # old_size[0] is in (width, height) format\n",
        "\n",
        "    ratio = float(desired_size)/max(old_size)\n",
        "    new_size = tuple([int(x*ratio) for x in old_size])\n",
        "\n",
        "    im = imn.resize(new_size, Image.ANTIALIAS)\n",
        "    new_im = Image.new(\"RGB\",(desired_size, desired_size))   #\"L\" voor zwart wit\n",
        "    new_im.paste(im, ((desired_size-new_size[0])//2,\n",
        "                    (desired_size-new_size[1])//2))\n",
        "\n",
        "    if image[-5] == \".jpeg\":\n",
        "      new_im.save(save_path+save_folder+image[:-5]+'.png')\n",
        "    else:\n",
        "      new_im.save(save_path+save_folder+image[:-4]+'.png')\n",
        "\n",
        "#load in the GAN_model to make masks\n",
        "model = load_model('/content/gdrive/My Drive/Thesis/GAN_model/GAN_model.h5', compile=False)\n",
        "\n",
        "def make_masks(model,src_image_path, image, save_path):\n",
        "    model = model\n",
        "    src_image = Image.open(src_image_path+image)\n",
        "    src_image = ImageOps.grayscale(src_image)\n",
        "    src_image = np.asarray(src_image)\n",
        "    src_image = src_image / 255\n",
        "    src_image = np.expand_dims(src_image, 0)\n",
        "    gen_msk = model.predict(src_image)\n",
        "\n",
        "    # treshhold \n",
        "    gen_msk = np.where(gen_msk > 0.5, 1, 0)\n",
        "    \n",
        "    # reshape mask, add a little post_processing and save\n",
        "    gen_mask = gen_msk.reshape(512, 512)\n",
        "    gen_mask = sp.ndimage.binary_closing(gen_mask, structure=np.ones((25,25))).astype(np.int)\n",
        "    gen_mask = sp.ndimage.binary_opening(gen_mask, structure=np.ones((15,15))).astype(np.int)\n",
        "    gen_mask = sp.ndimage.binary_closing(gen_mask, structure=np.ones((20,20))).astype(np.int)\n",
        "    gen_mask = sp.ndimage.binary_opening(gen_mask, structure=np.ones((10,10))).astype(np.int)\n",
        "    gen_mask = sp.ndimage.binary_closing(gen_mask, structure=np.ones((15,15))).astype(np.int)\n",
        "    gen_mask = sp.ndimage.binary_opening(gen_mask, structure=np.ones((10,10))).astype(np.int)\n",
        "    gen_mask = sp.ndimage.binary_closing(gen_mask, structure=np.ones((10,10))).astype(np.int)\n",
        "    gen_mask = sp.ndimage.binary_opening(gen_mask, structure=np.ones((10,10))).astype(np.int)\n",
        "    gen_mask = sp.ndimage.binary_closing(gen_mask, structure=np.ones((5,5))).astype(np.int)\n",
        "    gen_mask = sp.ndimage.binary_opening(gen_mask, structure=np.ones((3,3))).astype(np.int)\n",
        "    gen_mask = Image.fromarray((gen_mask * 255).astype(np.uint8))\n",
        "    gen_mask.save(save_path+image)\n",
        "\n",
        "# Function to lay the masks over the original images\n",
        "def combine(image_path,mask_path,image,names,save_combined):\n",
        "    image = np.asarray(Image.open(image_path+image))\n",
        "    mask = Image.open(mask_path+names[idx])\n",
        "    mask = np.expand_dims(mask,2)\n",
        "    mask = np.asarray(mask)\n",
        "    combined = np.multiply(image,mask)\n",
        "    combined = Image.fromarray(combined)\n",
        "    combined.save(save_combined+names[idx])"
      ],
      "execution_count": null,
      "outputs": []
    },
    {
      "cell_type": "code",
      "metadata": {
        "colab": {
          "base_uri": "https://localhost:8080/"
        },
        "id": "HH1exOD6aLc4",
        "outputId": "53a1a270-e247-4f8b-cb76-dbc4f3a95c7d"
      },
      "source": [
        "directory_files = os.listdir(main_path+'covid/') \n",
        "COVID_names = [file for file in directory_files if file.endswith('.png') or file.endswith('.jpg') or file.endswith('.jpeg')]\n",
        "COVID_names.sort()\n",
        "\n",
        "directory_files = os.listdir(main_path+'non_covid/') \n",
        "non_cov_names = [file for file in directory_files if file.endswith('.png') or file.endswith('.jpg') or file.endswith('.jpeg')]\n",
        "non_cov_names.sort()\n",
        "\n",
        "print(len(COVID_names), COVID_names[:1], len(non_cov_names), non_cov_names[:1])"
      ],
      "execution_count": null,
      "outputs": [
        {
          "output_type": "stream",
          "text": [
            "4898 ['0001-56222.png'] 4923 ['00000003_007.png']\n"
          ],
          "name": "stdout"
        }
      ]
    },
    {
      "cell_type": "code",
      "metadata": {
        "id": "ffnoB-g8TTv2"
      },
      "source": [
        "non_covid_folder = 'non_covid/'\n",
        "input_path = main_path+'geen_cov/'\n",
        "\n",
        "with tf.device('/device:GPU:0'):\n",
        "  for image in non_cov_names:\n",
        "    reshape_normalize(image,input_path,main_path,non_covid_folder)"
      ],
      "execution_count": null,
      "outputs": []
    },
    {
      "cell_type": "code",
      "metadata": {
        "id": "CgRVL2BCUaau"
      },
      "source": [
        "# using the GAN model to create masks\n",
        "\n",
        "covid_path = main_path+'covid/'\n",
        "save_mask_covid = main_path+'masks/covid/'\n",
        "non_covid_path = main_path+'non_covid/'\n",
        "save_mask_non_covid = main_path+'masks/non_covid/'\n",
        "\n",
        "with tf.device('/device:GPU:0'):\n",
        "  for image in (COVID_names):\n",
        "    make_masks(model,covid_path,image,save_mask_covid)\n",
        "  \n",
        "  for image in (non_cov_names):\n",
        "    make_masks(model,non_covid_path,image,save_mask_non_covid)"
      ],
      "execution_count": null,
      "outputs": []
    },
    {
      "cell_type": "code",
      "metadata": {
        "id": "3AoecqBrVL1P"
      },
      "source": [
        "# laying the masks over the covid images\n",
        "\n",
        "image_path = main_path+'covid/'\n",
        "mask_path = main_path+'masks/covid/'\n",
        "names = COVID_names\n",
        "save_combined = main_path+'covid_with_masks/'\n",
        "\n",
        "with tf.device('/device:GPU:0'):\n",
        "  for idx, image in enumerate(names):\n",
        "    combine(image_path,mask_path,image,names,save_combined)"
      ],
      "execution_count": null,
      "outputs": []
    },
    {
      "cell_type": "code",
      "metadata": {
        "id": "8qTgfBacVhQ4"
      },
      "source": [
        "# laying the masks over the non_covid images\n",
        "\n",
        "image_path = main_path+'non_covid/'\n",
        "mask_path = main_path+'masks/non_covid/'\n",
        "names = non_cov_names\n",
        "save_combined = main_path+'non_covid_with_masks/'\n",
        "\n",
        "with tf.device('/device:GPU:0'):\n",
        "  for idx, image in enumerate(names):\n",
        "    combine(image_path,mask_path,image,names,save_combined)"
      ],
      "execution_count": null,
      "outputs": []
    },
    {
      "cell_type": "code",
      "metadata": {
        "id": "GK2IcmGjVzni"
      },
      "source": [
        "# resize everyting from 512*512 to 256*256"
      ],
      "execution_count": null,
      "outputs": []
    },
    {
      "cell_type": "code",
      "metadata": {
        "id": "riGu_VyQ_tlI"
      },
      "source": [
        "# making the train-test split\n",
        "\n",
        "#covid\n",
        "with tf.device('/device:GPU:0'):\n",
        "  for idx, image in enumerate(COVID_names):\n",
        "    im = Image.open(main_path+'covid/'+image)\n",
        "    im_m = Image.open(main_path+'covid_with_masks/'+image)\n",
        "    if idx % 5 == 0:\n",
        "      im.save(main_path+'test/covid/'+image)\n",
        "      im_m.save(main_path+'test_masks/covid/'+image)\n",
        "    else:\n",
        "      im.save(main_path+'train/covid/'+image)\n",
        "      im_m.save(main_path+'train_masks/covid/'+image)\n",
        "\n",
        "#non_covid\n",
        "  for idx, image in enumerate(non_cov_names):\n",
        "    im = Image.open(main_path+'non_covid/'+image)\n",
        "    im_m = Image.open(main_path+'non_covid_with_masks/'+image)\n",
        "    if idx % 5 == 0:\n",
        "      im.save(main_path+'test/non_covid/'+image)\n",
        "      im_m.save(main_path+'test_masks/non_covid/'+image)\n",
        "    else:\n",
        "      im.save(main_path+'train/non_covid/'+image)\n",
        "      im_m.save(main_path+'train_masks/non_covid/'+image)"
      ],
      "execution_count": null,
      "outputs": []
    },
    {
      "cell_type": "code",
      "metadata": {
        "id": "-Tukc0XVBKNY"
      },
      "source": [
        "directory_files = os.listdir(main_path+'train/covid/') \n",
        "trn_cov = [file for file in directory_files if file.endswith('.png')]\n",
        "directory_files = os.listdir(main_path+'train/non_covid/') \n",
        "trn_non_cov = [file for file in directory_files if file.endswith('.png')]\n",
        "\n",
        "#making validation sets\n",
        "with tf.device('/device:GPU:0'):  \n",
        "  for idx, image in enumerate(trn_cov):\n",
        "    if idx % 10 == 0:\n",
        "      im = Image.open(main_path+'train/covid/'+image)\n",
        "      im_m = Image.open(main_path+'train_masks/covid/'+image)\n",
        "      im.save(main_path+'val/covid/'+image)\n",
        "      im_m.save(main_path+'val_masks/covid/'+image)\n",
        "      os.remove(main_path+'train/covid/'+image)\n",
        "      os.remove(main_path+'train_masks/covid/'+image)\n",
        "\n",
        "  for idx, image in enumerate(trn_non_cov):\n",
        "    if idx % 10 == 0:\n",
        "      im = Image.open(main_path+'train/non_covid/'+image)\n",
        "      im_m = Image.open(main_path+'train_masks/non_covid/'+image)\n",
        "      im.save(main_path+'val/non_covid/'+image)\n",
        "      im_m.save(main_path+'val_masks/non_covid/'+image)\n",
        "      os.remove(main_path+'train/non_covid/'+image)\n",
        "      os.remove(main_path+'train_masks/non_covid/'+image)"
      ],
      "execution_count": null,
      "outputs": []
    }
  ]
}