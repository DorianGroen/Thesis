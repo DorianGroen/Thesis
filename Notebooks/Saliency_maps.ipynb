{
  "nbformat": 4,
  "nbformat_minor": 0,
  "metadata": {
    "accelerator": "GPU",
    "colab": {
      "name": "Saliency_maps.ipynb",
      "provenance": [],
      "collapsed_sections": []
    },
    "kernelspec": {
      "display_name": "Python 3",
      "name": "python3"
    },
    "language_info": {
      "name": "python"
    }
  },
  "cells": [
    {
      "cell_type": "code",
      "metadata": {
        "colab": {
          "base_uri": "https://localhost:8080/"
        },
        "id": "ypqZhHgyxRvr",
        "outputId": "7b4280f8-b9eb-4977-df21-d61511abe4d6"
      },
      "source": [
        "!pip install saliency tensorflow"
      ],
      "execution_count": 1,
      "outputs": [
        {
          "output_type": "stream",
          "text": [
            "Collecting saliency\n",
            "\u001b[?25l  Downloading https://files.pythonhosted.org/packages/a6/12/f3537c0d7834bedd1a4be8641a4c035a4f59a04a75ff132fa98b2e087cef/saliency-0.1.3-py2.py3-none-any.whl (77kB)\n",
            "\r\u001b[K     |████▎                           | 10kB 21.8MB/s eta 0:00:01\r\u001b[K     |████████▌                       | 20kB 28.2MB/s eta 0:00:01\r\u001b[K     |████████████▊                   | 30kB 32.8MB/s eta 0:00:01\r\u001b[K     |█████████████████               | 40kB 35.9MB/s eta 0:00:01\r\u001b[K     |█████████████████████▏          | 51kB 38.6MB/s eta 0:00:01\r\u001b[K     |█████████████████████████▍      | 61kB 41.0MB/s eta 0:00:01\r\u001b[K     |█████████████████████████████▋  | 71kB 37.0MB/s eta 0:00:01\r\u001b[K     |████████████████████████████████| 81kB 10.1MB/s \n",
            "\u001b[?25hRequirement already satisfied: tensorflow in /usr/local/lib/python3.7/dist-packages (2.5.0)\n",
            "Requirement already satisfied: numpy in /usr/local/lib/python3.7/dist-packages (from saliency) (1.19.5)\n",
            "Requirement already satisfied: scikit-image in /usr/local/lib/python3.7/dist-packages (from saliency) (0.16.2)\n",
            "Requirement already satisfied: six~=1.15.0 in /usr/local/lib/python3.7/dist-packages (from tensorflow) (1.15.0)\n",
            "Requirement already satisfied: h5py~=3.1.0 in /usr/local/lib/python3.7/dist-packages (from tensorflow) (3.1.0)\n",
            "Requirement already satisfied: keras-preprocessing~=1.1.2 in /usr/local/lib/python3.7/dist-packages (from tensorflow) (1.1.2)\n",
            "Requirement already satisfied: absl-py~=0.10 in /usr/local/lib/python3.7/dist-packages (from tensorflow) (0.12.0)\n",
            "Requirement already satisfied: typing-extensions~=3.7.4 in /usr/local/lib/python3.7/dist-packages (from tensorflow) (3.7.4.3)\n",
            "Requirement already satisfied: gast==0.4.0 in /usr/local/lib/python3.7/dist-packages (from tensorflow) (0.4.0)\n",
            "Requirement already satisfied: grpcio~=1.34.0 in /usr/local/lib/python3.7/dist-packages (from tensorflow) (1.34.1)\n",
            "Requirement already satisfied: google-pasta~=0.2 in /usr/local/lib/python3.7/dist-packages (from tensorflow) (0.2.0)\n",
            "Requirement already satisfied: opt-einsum~=3.3.0 in /usr/local/lib/python3.7/dist-packages (from tensorflow) (3.3.0)\n",
            "Requirement already satisfied: protobuf>=3.9.2 in /usr/local/lib/python3.7/dist-packages (from tensorflow) (3.12.4)\n",
            "Requirement already satisfied: tensorboard~=2.5 in /usr/local/lib/python3.7/dist-packages (from tensorflow) (2.5.0)\n",
            "Requirement already satisfied: keras-nightly~=2.5.0.dev in /usr/local/lib/python3.7/dist-packages (from tensorflow) (2.5.0.dev2021032900)\n",
            "Requirement already satisfied: flatbuffers~=1.12.0 in /usr/local/lib/python3.7/dist-packages (from tensorflow) (1.12)\n",
            "Requirement already satisfied: termcolor~=1.1.0 in /usr/local/lib/python3.7/dist-packages (from tensorflow) (1.1.0)\n",
            "Requirement already satisfied: tensorflow-estimator<2.6.0,>=2.5.0rc0 in /usr/local/lib/python3.7/dist-packages (from tensorflow) (2.5.0)\n",
            "Requirement already satisfied: astunparse~=1.6.3 in /usr/local/lib/python3.7/dist-packages (from tensorflow) (1.6.3)\n",
            "Requirement already satisfied: wrapt~=1.12.1 in /usr/local/lib/python3.7/dist-packages (from tensorflow) (1.12.1)\n",
            "Requirement already satisfied: wheel~=0.35 in /usr/local/lib/python3.7/dist-packages (from tensorflow) (0.36.2)\n",
            "Requirement already satisfied: matplotlib!=3.0.0,>=2.0.0 in /usr/local/lib/python3.7/dist-packages (from scikit-image->saliency) (3.2.2)\n",
            "Requirement already satisfied: networkx>=2.0 in /usr/local/lib/python3.7/dist-packages (from scikit-image->saliency) (2.5.1)\n",
            "Requirement already satisfied: scipy>=0.19.0 in /usr/local/lib/python3.7/dist-packages (from scikit-image->saliency) (1.4.1)\n",
            "Requirement already satisfied: PyWavelets>=0.4.0 in /usr/local/lib/python3.7/dist-packages (from scikit-image->saliency) (1.1.1)\n",
            "Requirement already satisfied: pillow>=4.3.0 in /usr/local/lib/python3.7/dist-packages (from scikit-image->saliency) (7.1.2)\n",
            "Requirement already satisfied: imageio>=2.3.0 in /usr/local/lib/python3.7/dist-packages (from scikit-image->saliency) (2.4.1)\n",
            "Requirement already satisfied: cached-property; python_version < \"3.8\" in /usr/local/lib/python3.7/dist-packages (from h5py~=3.1.0->tensorflow) (1.5.2)\n",
            "Requirement already satisfied: setuptools in /usr/local/lib/python3.7/dist-packages (from protobuf>=3.9.2->tensorflow) (57.0.0)\n",
            "Requirement already satisfied: tensorboard-plugin-wit>=1.6.0 in /usr/local/lib/python3.7/dist-packages (from tensorboard~=2.5->tensorflow) (1.8.0)\n",
            "Requirement already satisfied: werkzeug>=0.11.15 in /usr/local/lib/python3.7/dist-packages (from tensorboard~=2.5->tensorflow) (1.0.1)\n",
            "Requirement already satisfied: google-auth<2,>=1.6.3 in /usr/local/lib/python3.7/dist-packages (from tensorboard~=2.5->tensorflow) (1.31.0)\n",
            "Requirement already satisfied: markdown>=2.6.8 in /usr/local/lib/python3.7/dist-packages (from tensorboard~=2.5->tensorflow) (3.3.4)\n",
            "Requirement already satisfied: requests<3,>=2.21.0 in /usr/local/lib/python3.7/dist-packages (from tensorboard~=2.5->tensorflow) (2.23.0)\n",
            "Requirement already satisfied: google-auth-oauthlib<0.5,>=0.4.1 in /usr/local/lib/python3.7/dist-packages (from tensorboard~=2.5->tensorflow) (0.4.4)\n",
            "Requirement already satisfied: tensorboard-data-server<0.7.0,>=0.6.0 in /usr/local/lib/python3.7/dist-packages (from tensorboard~=2.5->tensorflow) (0.6.1)\n",
            "Requirement already satisfied: cycler>=0.10 in /usr/local/lib/python3.7/dist-packages (from matplotlib!=3.0.0,>=2.0.0->scikit-image->saliency) (0.10.0)\n",
            "Requirement already satisfied: pyparsing!=2.0.4,!=2.1.2,!=2.1.6,>=2.0.1 in /usr/local/lib/python3.7/dist-packages (from matplotlib!=3.0.0,>=2.0.0->scikit-image->saliency) (2.4.7)\n",
            "Requirement already satisfied: python-dateutil>=2.1 in /usr/local/lib/python3.7/dist-packages (from matplotlib!=3.0.0,>=2.0.0->scikit-image->saliency) (2.8.1)\n",
            "Requirement already satisfied: kiwisolver>=1.0.1 in /usr/local/lib/python3.7/dist-packages (from matplotlib!=3.0.0,>=2.0.0->scikit-image->saliency) (1.3.1)\n",
            "Requirement already satisfied: decorator<5,>=4.3 in /usr/local/lib/python3.7/dist-packages (from networkx>=2.0->scikit-image->saliency) (4.4.2)\n",
            "Requirement already satisfied: cachetools<5.0,>=2.0.0 in /usr/local/lib/python3.7/dist-packages (from google-auth<2,>=1.6.3->tensorboard~=2.5->tensorflow) (4.2.2)\n",
            "Requirement already satisfied: rsa<5,>=3.1.4; python_version >= \"3.6\" in /usr/local/lib/python3.7/dist-packages (from google-auth<2,>=1.6.3->tensorboard~=2.5->tensorflow) (4.7.2)\n",
            "Requirement already satisfied: pyasn1-modules>=0.2.1 in /usr/local/lib/python3.7/dist-packages (from google-auth<2,>=1.6.3->tensorboard~=2.5->tensorflow) (0.2.8)\n",
            "Requirement already satisfied: importlib-metadata; python_version < \"3.8\" in /usr/local/lib/python3.7/dist-packages (from markdown>=2.6.8->tensorboard~=2.5->tensorflow) (4.5.0)\n",
            "Requirement already satisfied: certifi>=2017.4.17 in /usr/local/lib/python3.7/dist-packages (from requests<3,>=2.21.0->tensorboard~=2.5->tensorflow) (2021.5.30)\n",
            "Requirement already satisfied: idna<3,>=2.5 in /usr/local/lib/python3.7/dist-packages (from requests<3,>=2.21.0->tensorboard~=2.5->tensorflow) (2.10)\n",
            "Requirement already satisfied: chardet<4,>=3.0.2 in /usr/local/lib/python3.7/dist-packages (from requests<3,>=2.21.0->tensorboard~=2.5->tensorflow) (3.0.4)\n",
            "Requirement already satisfied: urllib3!=1.25.0,!=1.25.1,<1.26,>=1.21.1 in /usr/local/lib/python3.7/dist-packages (from requests<3,>=2.21.0->tensorboard~=2.5->tensorflow) (1.24.3)\n",
            "Requirement already satisfied: requests-oauthlib>=0.7.0 in /usr/local/lib/python3.7/dist-packages (from google-auth-oauthlib<0.5,>=0.4.1->tensorboard~=2.5->tensorflow) (1.3.0)\n",
            "Requirement already satisfied: pyasn1>=0.1.3 in /usr/local/lib/python3.7/dist-packages (from rsa<5,>=3.1.4; python_version >= \"3.6\"->google-auth<2,>=1.6.3->tensorboard~=2.5->tensorflow) (0.4.8)\n",
            "Requirement already satisfied: zipp>=0.5 in /usr/local/lib/python3.7/dist-packages (from importlib-metadata; python_version < \"3.8\"->markdown>=2.6.8->tensorboard~=2.5->tensorflow) (3.4.1)\n",
            "Requirement already satisfied: oauthlib>=3.0.0 in /usr/local/lib/python3.7/dist-packages (from requests-oauthlib>=0.7.0->google-auth-oauthlib<0.5,>=0.4.1->tensorboard~=2.5->tensorflow) (3.1.1)\n",
            "Installing collected packages: saliency\n",
            "Successfully installed saliency-0.1.3\n"
          ],
          "name": "stdout"
        }
      ]
    },
    {
      "cell_type": "code",
      "metadata": {
        "colab": {
          "base_uri": "https://localhost:8080/"
        },
        "id": "PaESwecqsHkO",
        "outputId": "ca59a934-9016-464c-cb4c-2eb81ae1ce49"
      },
      "source": [
        "from google.colab import drive\n",
        "drive.mount('/content/gdrive')"
      ],
      "execution_count": 2,
      "outputs": [
        {
          "output_type": "stream",
          "text": [
            "Mounted at /content/gdrive\n"
          ],
          "name": "stdout"
        }
      ]
    },
    {
      "cell_type": "code",
      "metadata": {
        "id": "dXLiqJ5TsHHF"
      },
      "source": [
        "import tensorflow as tf\n",
        "import numpy as np\n",
        "import PIL.Image\n",
        "from matplotlib import pylab as P\n",
        "from keras.models import load_model\n",
        "import os\n",
        "import random\n",
        "import saliency.core as saliency"
      ],
      "execution_count": 4,
      "outputs": []
    },
    {
      "cell_type": "code",
      "metadata": {
        "id": "b3Mvh7KmxbB0"
      },
      "source": [
        "main_path = '/content/gdrive/My Drive/Thesis/Data/COVID-classification/'\n",
        "save_path = '/content/gdrive/My Drive/Thesis/Saliency_maps/'\n",
        "model_path = '/content/gdrive/My Drive/Thesis/models/'"
      ],
      "execution_count": 5,
      "outputs": []
    },
    {
      "cell_type": "code",
      "metadata": {
        "id": "cfOmYvc3yCDu"
      },
      "source": [
        "# Model inladen\n",
        "\n",
        "with tf.device('/device:GPU:0'):\n",
        "  ResNet = load_model(model_path+'ResNet-1.h5', compile=False)\n",
        "  ResNet_mask = load_model(model_path+'ResNet_masks-1.h5', compile=False)\n",
        "  DenseNet = load_model(model_path+'DenseNet-1.h5', compile=False)\n",
        "  DenseNet_mask = load_model(model_path+'DenseNet_masks-1.h5', compile=False)"
      ],
      "execution_count": 6,
      "outputs": []
    },
    {
      "cell_type": "code",
      "metadata": {
        "id": "NC8IeNVXGksu"
      },
      "source": [
        "#DenseNet.summary()"
      ],
      "execution_count": null,
      "outputs": []
    },
    {
      "cell_type": "code",
      "metadata": {
        "id": "vzWDxyJY4heP",
        "colab": {
          "base_uri": "https://localhost:8080/"
        },
        "outputId": "64652d86-2810-4c37-99b4-129b7f937b60"
      },
      "source": [
        "with tf.device('/device:GPU:0'):\n",
        "  directory_files = os.listdir(main_path+'test/covid') \n",
        "  cov_names = [file for file in directory_files if file.endswith('.png')]\n",
        "  cov_names.sort()\n",
        "\n",
        "  directory_files = os.listdir(main_path+'test/non_covid/') \n",
        "  non_cov_names = [file for file in directory_files if file.endswith('.png')]\n",
        "  non_cov_names.sort()\n",
        "\n",
        "  directory_files = os.listdir(main_path+'test_masks/covid') \n",
        "  covm_names = [file for file in directory_files if file.endswith('.png')]\n",
        "  covm_names.sort()\n",
        "\n",
        "  directory_files = os.listdir(main_path+'test_masks/non_covid/') \n",
        "  non_covm_names = [file for file in directory_files if file.endswith('.png')]\n",
        "  non_covm_names.sort()\n",
        "\n",
        "  print(len(cov_names), cov_names[:1], len(non_cov_names), non_cov_names[:1], len(covm_names), covm_names[:1], len(non_covm_names), non_covm_names[:1])"
      ],
      "execution_count": 7,
      "outputs": [
        {
          "output_type": "stream",
          "text": [
            "980 ['0001-56222.png'] 985 ['00000003_007.png'] 980 ['0001-56222.png'] 985 ['00000003_007.png']\n"
          ],
          "name": "stdout"
        }
      ]
    },
    {
      "cell_type": "code",
      "metadata": {
        "id": "J3j2yBb25tYK",
        "colab": {
          "base_uri": "https://localhost:8080/"
        },
        "outputId": "149ef45b-eb6a-4f8f-d769-b5c992f792c1"
      },
      "source": [
        "# Random samples pakken \n",
        "cov_samples = random.sample(cov_names, 10)\n",
        "non_cov_samples = random.sample(non_cov_names, 10)\n",
        "covm_samples = random.sample(covm_names, 10)\n",
        "non_covm_samples = random.sample(non_covm_names, 10)\n",
        "\n",
        "#cov_samples = cov_names[702:712]\n",
        "#non_cov_samples = non_cov_names[702:712]\n",
        "#covm_samples = covm_names[702:712]\n",
        "#non_covm_samples = non_covm_names[702:712]"
      ],
      "execution_count": 8,
      "outputs": [
        {
          "output_type": "stream",
          "text": [
            "['COVID-3106.png', '2972-60093.png', 'COVID-3110.png', 'COVID-3525.png', 'COVID-3442.png', 'COVID-3383.png', 'COVID-1051.png', 'COVID-1789.png', '2911-45679.png', '16424076-867.png']\n"
          ],
          "name": "stdout"
        }
      ]
    },
    {
      "cell_type": "code",
      "metadata": {
        "id": "wUGCpdgzsCt3"
      },
      "source": [
        "def ShowImage(im, title='', ax=None):\n",
        "  if ax is None:\n",
        "    P.figure()\n",
        "  P.axis('off')\n",
        "  P.imshow(im)\n",
        "  P.title(title)\n",
        "\n",
        "def ShowHeatMap(im, title, ax=None):\n",
        "  if ax is None:\n",
        "    P.figure()\n",
        "  P.axis('off')\n",
        "  P.imshow(im, cmap='inferno')\n",
        "  P.title(title)\n",
        "\n",
        "def LoadImage(file_path):\n",
        "  im = PIL.Image.open(file_path)\n",
        "  im = np.asarray(im)\n",
        "  return im"
      ],
      "execution_count": 9,
      "outputs": []
    },
    {
      "cell_type": "code",
      "metadata": {
        "id": "YWYSYGjqMPf3"
      },
      "source": [
        "model = ResNet_mask "
      ],
      "execution_count": 10,
      "outputs": []
    },
    {
      "cell_type": "code",
      "metadata": {
        "id": "rWFxHfldsJ_k"
      },
      "source": [
        "class_idx_str = 'class_idx_str'\n",
        "def call_model_function(images, call_model_args=None, expected_keys=None):\n",
        "    target_class_idx =  call_model_args[class_idx_str]\n",
        "    images = tf.convert_to_tensor(images)\n",
        "    with tf.GradientTape() as tape:\n",
        "        if expected_keys==[saliency.base.INPUT_OUTPUT_GRADIENTS]:\n",
        "            tape.watch(images)\n",
        "            output_layer = model(images)\n",
        "            output_layer = output_layer[target_class_idx]\n",
        "            gradients = np.array(tape.gradient(output_layer, images))\n",
        "            return {saliency.base.INPUT_OUTPUT_GRADIENTS: gradients}\n",
        "        else:\n",
        "            conv_layer, output_layer = model(images)\n",
        "            gradients = np.array(tape.gradient(output_layer, conv_layer))\n",
        "            return {saliency.base.CONVOLUTION_LAYER_VALUES: conv_layer,\n",
        "                    saliency.base.CONVOLUTION_OUTPUT_GRADIENTS: gradients}\n"
      ],
      "execution_count": 11,
      "outputs": []
    },
    {
      "cell_type": "code",
      "metadata": {
        "id": "V6UWMCrj4gYU"
      },
      "source": [
        "cov = list()\n",
        "non_cov = list()\n",
        "covm = list()\n",
        "non_covm = list()\n",
        "\n",
        "for x in cov_samples:\n",
        "  im = LoadImage(main_path+'test/covid/'+x)\n",
        "  cov.append(im)\n",
        "for x in non_cov_samples:\n",
        "  im = LoadImage(main_path+'test/non_covid/'+x)\n",
        "  non_cov.append(im)\n",
        "for x in covm_samples:\n",
        "  im = LoadImage(main_path+'test_masks/covid/'+x)\n",
        "  covm.append(im)\n",
        "for x in non_covm_samples:\n",
        "  im = LoadImage(main_path+'test_masks/non_covid/'+x)\n",
        "  non_covm.append(im)"
      ],
      "execution_count": 12,
      "outputs": []
    },
    {
      "cell_type": "code",
      "metadata": {
        "colab": {
          "base_uri": "https://localhost:8080/",
          "height": 265
        },
        "id": "dOjwJanOsJ6k",
        "outputId": "1e6bf196-c36e-41d5-865f-454550f94b70"
      },
      "source": [
        "#for im in cov:\n",
        "im = covm[3]\n",
        "ShowImage(im)\n",
        "prediction = model(np.array([im]))\n",
        "if prediction[0] >= 0.5:\n",
        "  prediction_class = 1\n",
        "else:\n",
        "  prediction_class = 0  \n",
        "call_model_args = {class_idx_str: prediction_class}\n",
        "print(\"Prediction class: \" + str(prediction_class))"
      ],
      "execution_count": 13,
      "outputs": [
        {
          "output_type": "stream",
          "text": [
            "Prediction class: 0\n"
          ],
          "name": "stdout"
        },
        {
          "output_type": "display_data",
          "data": {
            "image/png": "[encoded data removed]",
            "text/plain": [
              "<Figure size 432x288 with 1 Axes>"
            ]
          },
          "metadata": {
            "tags": [],
            "needs_background": "light"
          }
        }
      ]
    },
    {
      "cell_type": "code",
      "metadata": {
        "colab": {
          "base_uri": "https://localhost:8080/",
          "height": 211
        },
        "id": "LVkqFrmtsJ2E",
        "outputId": "70567bc5-a321-4c74-ce39-f0cf52aa63d1"
      },
      "source": [
        "with tf.device('/device:GPU:0'):\n",
        "    # Construct the saliency object. This alone doesn't do anthing.\n",
        "  xrai_object = saliency.XRAI()\n",
        "\n",
        "  # Compute XRAI attributions with default parameters\n",
        "  xrai_attributions = xrai_object.GetMask(im, call_model_function, call_model_args, batch_size=4)\n",
        "\n",
        "  # Set up matplot lib figures.\n",
        "  ROWS = 1\n",
        "  COLS = 3\n",
        "  UPSCALE_FACTOR = 20\n",
        "  P.figure(figsize=(ROWS * UPSCALE_FACTOR, COLS * UPSCALE_FACTOR))\n",
        "\n",
        "  # Show original image\n",
        "  ShowImage(im, title='Original Image', ax=P.subplot(ROWS, COLS, 1))\n",
        "\n",
        "  # Show XRAI heatmap attributions\n",
        "  ShowHeatMap(xrai_attributions, title='XRAI Heatmap', ax=P.subplot(ROWS, COLS, 2))\n",
        "\n",
        "  # Show most salient x% of the image\n",
        "  mask = xrai_attributions > np.percentile(xrai_attributions, 85)\n",
        "  im_mask = np.array(im)\n",
        "  im_mask[~mask] = 0\n",
        "  ShowImage(im_mask, title='Top 15%', ax=P.subplot(ROWS, COLS, 3))"
      ],
      "execution_count": 14,
      "outputs": [
        {
          "output_type": "display_data",
          "data": {
            "image/png": "[encoded data removed]",
            "text/plain": [
              "<Figure size 720x2160 with 3 Axes>"
            ]
          },
          "metadata": {
            "tags": [],
            "needs_background": "light"
          }
        }
      ]
    }
  ]
}