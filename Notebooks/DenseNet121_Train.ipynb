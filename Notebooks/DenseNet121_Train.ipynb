{
  "nbformat": 4,
  "nbformat_minor": 0,
  "metadata": {
    "accelerator": "GPU",
    "colab": {
      "name": "DenseNet121_Model_last.ipynb",
      "provenance": [],
      "collapsed_sections": []
    },
    "kernelspec": {
      "display_name": "Python 3",
      "name": "python3"
    },
    "language_info": {
      "name": "python"
    }
  },
  "cells": [
    {
      "cell_type": "code",
      "metadata": {
        "colab": {
          "base_uri": "https://localhost:8080/"
        },
        "id": "0b5KACmtDFKz",
        "outputId": "a45f6196-f26a-4fa1-e667-6c19733c4d67"
      },
      "source": [
        "from google.colab import drive\n",
        "drive.mount('/content/gdrive')"
      ],
      "execution_count": null,
      "outputs": [
        {
          "output_type": "stream",
          "text": [
            "Drive already mounted at /content/gdrive; to attempt to forcibly remount, call drive.mount(\"/content/gdrive\", force_remount=True).\n"
          ],
          "name": "stdout"
        }
      ]
    },
    {
      "cell_type": "code",
      "metadata": {
        "id": "DsHfVyAdCo8W"
      },
      "source": [
        "# Import needed packages\n",
        "import matplotlib.pyplot as plt\n",
        "import tensorflow as tf\n",
        "import random\n",
        "import os\n",
        "from tensorflow import keras\n",
        "from tensorflow.keras import models, Sequential\n",
        "from tensorflow.keras import layers\n",
        "from tensorflow.keras.layers import Dense, Flatten, Dropout, Input\n",
        "from tensorflow.keras.utils import to_categorical\n",
        "from keras.models import Model\n",
        "from keras.preprocessing.image import ImageDataGenerator\n",
        "from keras.preprocessing.image import DirectoryIterator\n",
        "from tensorflow.keras.applications import DenseNet121\n",
        "from keras.applications.densenet import preprocess_input\n",
        "from keras import optimizers\n",
        "from datetime import datetime\n",
        "from keras.callbacks import EarlyStopping, ModelCheckpoint\n",
        "from PIL import Image\n",
        "from sklearn.metrics import confusion_matrix\n",
        "\n",
        "%matplotlib inline\n",
        "\n",
        "import warnings\n",
        "warnings.filterwarnings(\"ignore\", category=FutureWarning)"
      ],
      "execution_count": null,
      "outputs": []
    },
    {
      "cell_type": "code",
      "metadata": {
        "id": "wPD1sVE9DD-C"
      },
      "source": [
        "main_path = '/content/gdrive/My Drive/Thesis/Data/COVID-classification/'\n",
        "train_path_org = main_path+'train/'\n",
        "test_path_org = main_path+'test/'\n",
        "val_path_org = main_path+'val/'"
      ],
      "execution_count": null,
      "outputs": []
    },
    {
      "cell_type": "code",
      "metadata": {
        "id": "OCrfHVWhDvAU"
      },
      "source": [
        "train_path_mask = main_path+'train_masks/'\n",
        "test_path_mask = main_path+'test_masks/'\n",
        "val_path_mask = main_path+'val_masks/'"
      ],
      "execution_count": null,
      "outputs": []
    },
    {
      "cell_type": "code",
      "metadata": {
        "colab": {
          "base_uri": "https://localhost:8080/"
        },
        "id": "JGK6rg-3DWV_",
        "outputId": "59338f5b-9042-4be2-df1f-7cba7c5acae6"
      },
      "source": [
        "#Loading the DenseNet-121 model to test original model\n",
        "\n",
        "dense = DenseNet121(include_top=False, weights='imagenet' ,input_shape=(512, 512, 3))\n",
        "\n",
        "for layer in dense.layers:\n",
        "  layer.trainable = False\n",
        "\n",
        "x = Flatten()(dense.output)\n",
        "x = Dense(256, activation='relu')(x)\n",
        "x = Dropout(0.25)(x)\n",
        "x = Dense(128, activation='relu')(x)\n",
        "x = Dropout(0.25)(x)\n",
        "x = Dense(64, activation='relu')(x)\n",
        "x = Dropout(0.25)(x)\n",
        "pred = Dense(1, activation='sigmoid')(x)\n",
        "\n",
        "model = keras.Model(dense.input, pred)\n",
        "\n",
        "\n",
        "# summarize the model\n",
        "#model.summary()"
      ],
      "execution_count": null,
      "outputs": [
        {
          "output_type": "stream",
          "text": [
            "Downloading data from https://storage.googleapis.com/tensorflow/keras-applications/densenet/densenet121_weights_tf_dim_ordering_tf_kernels_notop.h5\n",
            "29089792/29084464 [==============================] - 3s 0us/step\n"
          ],
          "name": "stdout"
        }
      ]
    },
    {
      "cell_type": "code",
      "metadata": {
        "id": "Vgq6XmNnDn3r"
      },
      "source": [
        "adam = optimizers.Adam()\n",
        "model.compile(loss='binary_crossentropy',\n",
        "              optimizer=adam,\n",
        "              metrics=['accuracy'])"
      ],
      "execution_count": null,
      "outputs": []
    },
    {
      "cell_type": "code",
      "metadata": {
        "id": "SbH9ILWWDtgo"
      },
      "source": [
        "datagen = ImageDataGenerator(\n",
        "    preprocessing_function=preprocess_input)"
      ],
      "execution_count": null,
      "outputs": []
    },
    {
      "cell_type": "code",
      "metadata": {
        "colab": {
          "base_uri": "https://localhost:8080/"
        },
        "id": "A7_90H0jDvR5",
        "outputId": "88ecc1e4-42bb-4c5d-9fce-52b82d5866f9"
      },
      "source": [
        "train_set = DirectoryIterator(train_path_org,\n",
        "                            datagen,\n",
        "                            target_size = (512, 512),\n",
        "                            batch_size = 32,\n",
        "                            class_mode = 'binary',\n",
        "                            shuffle = True)"
      ],
      "execution_count": null,
      "outputs": [
        {
          "output_type": "stream",
          "text": [
            "Found 7070 images belonging to 2 classes.\n"
          ],
          "name": "stdout"
        }
      ]
    },
    {
      "cell_type": "code",
      "metadata": {
        "colab": {
          "base_uri": "https://localhost:8080/"
        },
        "id": "MA4gYHDTEYIU",
        "outputId": "47a6abfb-a280-4165-cd0d-00ce0eeaed84"
      },
      "source": [
        "train_set_mask = DirectoryIterator(train_path_mask,\n",
        "                            datagen,\n",
        "                            target_size = (512, 512),\n",
        "                            batch_size = 32,\n",
        "                            class_mode = 'binary',\n",
        "                            shuffle = True)"
      ],
      "execution_count": null,
      "outputs": [
        {
          "output_type": "stream",
          "text": [
            "Found 7070 images belonging to 2 classes.\n"
          ],
          "name": "stdout"
        }
      ]
    },
    {
      "cell_type": "code",
      "metadata": {
        "colab": {
          "base_uri": "https://localhost:8080/"
        },
        "id": "hRDQd2QCDvOm",
        "outputId": "7542d1c9-6cbf-4c67-df4b-1124c471ac9b"
      },
      "source": [
        "val_set = DirectoryIterator(val_path_org,\n",
        "                            datagen,\n",
        "                            target_size = (512, 512),\n",
        "                            batch_size = 32,\n",
        "                            class_mode = 'binary',\n",
        "                            shuffle = True)"
      ],
      "execution_count": null,
      "outputs": [
        {
          "output_type": "stream",
          "text": [
            "Found 786 images belonging to 2 classes.\n"
          ],
          "name": "stdout"
        }
      ]
    },
    {
      "cell_type": "code",
      "metadata": {
        "colab": {
          "base_uri": "https://localhost:8080/"
        },
        "id": "BceLYteDEYEB",
        "outputId": "b6757b5f-64a2-4261-a273-11349496b56e"
      },
      "source": [
        "val_set_mask = DirectoryIterator(val_path_mask,\n",
        "                            datagen,\n",
        "                            target_size = (512, 512),\n",
        "                            batch_size = 32,\n",
        "                            class_mode = 'binary',\n",
        "                            shuffle = True)"
      ],
      "execution_count": null,
      "outputs": [
        {
          "output_type": "stream",
          "text": [
            "Found 786 images belonging to 2 classes.\n"
          ],
          "name": "stdout"
        }
      ]
    },
    {
      "cell_type": "code",
      "metadata": {
        "colab": {
          "base_uri": "https://localhost:8080/"
        },
        "id": "WEgT7fIMDvJT",
        "outputId": "4e9ca837-e7de-4d97-eb31-7490f1fcf080"
      },
      "source": [
        "test_set = DirectoryIterator(test_path_org,\n",
        "                            datagen,\n",
        "                            target_size = (512, 512),\n",
        "                            batch_size = 32,\n",
        "                            class_mode = 'binary',\n",
        "                            shuffle = False)"
      ],
      "execution_count": null,
      "outputs": [
        {
          "output_type": "stream",
          "text": [
            "Found 1965 images belonging to 2 classes.\n"
          ],
          "name": "stdout"
        }
      ]
    },
    {
      "cell_type": "code",
      "metadata": {
        "colab": {
          "base_uri": "https://localhost:8080/"
        },
        "id": "qDH5N75uEX_l",
        "outputId": "840fdd97-0381-449a-ea6d-f7b1c4fa9878"
      },
      "source": [
        "test_set_mask = DirectoryIterator(test_path_mask,\n",
        "                            datagen,\n",
        "                            target_size = (512, 512),\n",
        "                            batch_size = 32,\n",
        "                            class_mode = 'binary',\n",
        "                            shuffle = False)"
      ],
      "execution_count": null,
      "outputs": [
        {
          "output_type": "stream",
          "text": [
            "Found 1965 images belonging to 2 classes.\n"
          ],
          "name": "stdout"
        }
      ]
    },
    {
      "cell_type": "code",
      "metadata": {
        "colab": {
          "base_uri": "https://localhost:8080/"
        },
        "id": "siiJd3SMDvFV",
        "outputId": "385c9af5-bdf7-4877-e8a7-7cda24a53268"
      },
      "source": [
        "# train model on original data\n",
        "with tf.device('/device:GPU:0'):\n",
        "  early = EarlyStopping(monitor='val_loss', patience=5)\n",
        "  check = ModelCheckpoint('/content/gdrive/My Drive/Thesis/models/DenseNet-1.h5', save_best_only=True, monitor='val_loss', mode='min')\n",
        "  model_history=model.fit(\n",
        "    train_set,\n",
        "    validation_data=val_set,\n",
        "    epochs=40,\n",
        "    callbacks=[early,check],\n",
        "    verbose=1)"
      ],
      "execution_count": null,
      "outputs": [
        {
          "output_type": "stream",
          "text": [
            "Epoch 1/40\n",
            "221/221 [==============================] - 5134s 23s/step - loss: 2.3577 - accuracy: 0.8639 - val_loss: 0.1151 - val_accuracy: 0.9631\n",
            "Epoch 2/40\n",
            "221/221 [==============================] - 239s 1s/step - loss: 0.1533 - accuracy: 0.9539 - val_loss: 0.1111 - val_accuracy: 0.9771\n",
            "Epoch 3/40\n",
            "221/221 [==============================] - 239s 1s/step - loss: 0.1222 - accuracy: 0.9576 - val_loss: 0.0791 - val_accuracy: 0.9720\n",
            "Epoch 4/40\n",
            "221/221 [==============================] - 239s 1s/step - loss: 0.0847 - accuracy: 0.9743 - val_loss: 0.1194 - val_accuracy: 0.9491\n",
            "Epoch 5/40\n",
            "221/221 [==============================] - 239s 1s/step - loss: 0.0847 - accuracy: 0.9721 - val_loss: 0.1002 - val_accuracy: 0.9669\n",
            "Epoch 6/40\n",
            "221/221 [==============================] - 237s 1s/step - loss: 0.0730 - accuracy: 0.9741 - val_loss: 0.0992 - val_accuracy: 0.9695\n",
            "Epoch 7/40\n",
            "221/221 [==============================] - 236s 1s/step - loss: 0.0623 - accuracy: 0.9751 - val_loss: 0.0862 - val_accuracy: 0.9682\n",
            "Epoch 8/40\n",
            "221/221 [==============================] - 235s 1s/step - loss: 0.0485 - accuracy: 0.9796 - val_loss: 0.0698 - val_accuracy: 0.9835\n",
            "Epoch 9/40\n",
            "221/221 [==============================] - 235s 1s/step - loss: 0.0529 - accuracy: 0.9788 - val_loss: 0.0643 - val_accuracy: 0.9835\n",
            "Epoch 10/40\n",
            "221/221 [==============================] - 235s 1s/step - loss: 0.0438 - accuracy: 0.9835 - val_loss: 0.0851 - val_accuracy: 0.9784\n",
            "Epoch 11/40\n",
            "221/221 [==============================] - 234s 1s/step - loss: 0.0355 - accuracy: 0.9840 - val_loss: 0.0674 - val_accuracy: 0.9746\n",
            "Epoch 12/40\n",
            "221/221 [==============================] - 235s 1s/step - loss: 0.0414 - accuracy: 0.9830 - val_loss: 0.0958 - val_accuracy: 0.9796\n",
            "Epoch 13/40\n",
            "221/221 [==============================] - 234s 1s/step - loss: 0.0348 - accuracy: 0.9837 - val_loss: 0.0896 - val_accuracy: 0.9771\n",
            "Epoch 14/40\n",
            "221/221 [==============================] - 234s 1s/step - loss: 0.0210 - accuracy: 0.9885 - val_loss: 0.1264 - val_accuracy: 0.9873\n"
          ],
          "name": "stdout"
        }
      ]
    },
    {
      "cell_type": "code",
      "metadata": {
        "colab": {
          "base_uri": "https://localhost:8080/"
        },
        "id": "fmEPmnTke5PG",
        "outputId": "c3c32931-72b2-4b98-a164-8d21ff2033b0"
      },
      "source": [
        "y_pred = model.predict(test_set)\n",
        "\n",
        "confusion_matrix(test_set.labels, y_pred.round())"
      ],
      "execution_count": null,
      "outputs": [
        {
          "output_type": "execute_result",
          "data": {
            "text/plain": [
              "array([[966,   5],\n",
              "       [ 14, 980]])"
            ]
          },
          "metadata": {
            "tags": []
          },
          "execution_count": 17
        }
      ]
    },
    {
      "cell_type": "code",
      "metadata": {
        "colab": {
          "base_uri": "https://localhost:8080/"
        },
        "id": "AFQBFP1MEX2I",
        "outputId": "09483e38-3dc1-4a7c-b71f-e3b2d6253e3a"
      },
      "source": [
        "# original data\n",
        "model.evaluate(test_set)"
      ],
      "execution_count": null,
      "outputs": [
        {
          "output_type": "stream",
          "text": [
            "62/62 [==============================] - 58s 924ms/step - loss: 0.0431 - accuracy: 0.9903\n"
          ],
          "name": "stdout"
        },
        {
          "output_type": "execute_result",
          "data": {
            "text/plain": [
              "[0.0431087464094162, 0.9903308153152466]"
            ]
          },
          "metadata": {
            "tags": []
          },
          "execution_count": 18
        }
      ]
    },
    {
      "cell_type": "markdown",
      "metadata": {
        "id": "uiYaHx4TD7h9"
      },
      "source": [
        "Now the same model will be trained on data that has been processed to have a mask over the image."
      ]
    },
    {
      "cell_type": "code",
      "metadata": {
        "id": "GbIBXw26Duxk"
      },
      "source": [
        "#Loading the inceptionV3 model to test original model\n",
        "\n",
        "dense_masks = DenseNet121(include_top=False, weights='imagenet' ,input_shape=(512, 512, 3))\n",
        "\n",
        "for layer in dense_masks.layers:\n",
        "  layer.trainable = False\n",
        "\n",
        "x = Flatten()(dense_masks.output)\n",
        "x = Dense(256, activation='relu')(x)\n",
        "x = Dropout(0.25)(x)\n",
        "x = Dense(128, activation='relu')(x)\n",
        "x = Dropout(0.25)(x)\n",
        "x = Dense(64, activation='relu')(x)\n",
        "x = Dropout(0.25)(x)\n",
        "pred = Dense(1, activation='sigmoid')(x)\n",
        "\n",
        "model_masks = keras.Model(dense_masks.input, pred)\n",
        "\n",
        "\n",
        "# summarize the model\n",
        "#model.summary()"
      ],
      "execution_count": null,
      "outputs": []
    },
    {
      "cell_type": "code",
      "metadata": {
        "id": "4-nRzQQSEUDT"
      },
      "source": [
        "model_masks.compile(loss='binary_crossentropy',\n",
        "              optimizer=adam,\n",
        "              metrics=['accuracy'])"
      ],
      "execution_count": null,
      "outputs": []
    },
    {
      "cell_type": "code",
      "metadata": {
        "id": "_F2dYwZ9EX5c",
        "colab": {
          "base_uri": "https://localhost:8080/"
        },
        "outputId": "3e2ab863-61b9-4a36-bda3-0b880634c650"
      },
      "source": [
        "with tf.device('/device:GPU:0'):\n",
        "  early = EarlyStopping(monitor='val_loss', patience=5)\n",
        "  check = ModelCheckpoint('/content/gdrive/My Drive/Thesis/models/DenseNet_masks-1.h5', save_best_only=True, monitor='val_loss', mode='min')\n",
        "  model_history_masks=model_masks.fit(\n",
        "    train_set_mask,\n",
        "    validation_data=val_set_mask,\n",
        "    epochs=40,\n",
        "    callbacks=[early,check],\n",
        "    verbose=1)"
      ],
      "execution_count": null,
      "outputs": [
        {
          "output_type": "stream",
          "text": [
            "Epoch 1/40\n",
            "221/221 [==============================] - 4911s 22s/step - loss: 6.6929 - accuracy: 0.6139 - val_loss: 0.5692 - val_accuracy: 0.7824\n",
            "Epoch 2/40\n",
            "221/221 [==============================] - 234s 1s/step - loss: 0.5764 - accuracy: 0.7136 - val_loss: 0.4795 - val_accuracy: 0.8092\n",
            "Epoch 3/40\n",
            "221/221 [==============================] - 234s 1s/step - loss: 0.5249 - accuracy: 0.7495 - val_loss: 0.4188 - val_accuracy: 0.8130\n",
            "Epoch 4/40\n",
            "221/221 [==============================] - 236s 1s/step - loss: 0.4611 - accuracy: 0.7938 - val_loss: 0.3671 - val_accuracy: 0.8626\n",
            "Epoch 5/40\n",
            "221/221 [==============================] - 236s 1s/step - loss: 0.3967 - accuracy: 0.8307 - val_loss: 0.3250 - val_accuracy: 0.8511\n",
            "Epoch 6/40\n",
            "221/221 [==============================] - 233s 1s/step - loss: 0.3364 - accuracy: 0.8612 - val_loss: 0.2610 - val_accuracy: 0.8880\n",
            "Epoch 7/40\n",
            "221/221 [==============================] - 232s 1s/step - loss: 0.2778 - accuracy: 0.8880 - val_loss: 0.2492 - val_accuracy: 0.8893\n",
            "Epoch 8/40\n",
            "221/221 [==============================] - 232s 1s/step - loss: 0.2380 - accuracy: 0.9021 - val_loss: 0.2799 - val_accuracy: 0.8969\n",
            "Epoch 9/40\n",
            "221/221 [==============================] - 232s 1s/step - loss: 0.2114 - accuracy: 0.9096 - val_loss: 0.2552 - val_accuracy: 0.8969\n",
            "Epoch 10/40\n",
            "221/221 [==============================] - 232s 1s/step - loss: 0.1902 - accuracy: 0.9221 - val_loss: 0.2266 - val_accuracy: 0.9059\n",
            "Epoch 11/40\n",
            "221/221 [==============================] - 232s 1s/step - loss: 0.1866 - accuracy: 0.9218 - val_loss: 0.3165 - val_accuracy: 0.8791\n",
            "Epoch 12/40\n",
            "221/221 [==============================] - 232s 1s/step - loss: 0.1637 - accuracy: 0.9301 - val_loss: 0.2413 - val_accuracy: 0.9084\n",
            "Epoch 13/40\n",
            "221/221 [==============================] - 231s 1s/step - loss: 0.1645 - accuracy: 0.9358 - val_loss: 0.2340 - val_accuracy: 0.9288\n",
            "Epoch 14/40\n",
            "221/221 [==============================] - 232s 1s/step - loss: 0.1279 - accuracy: 0.9475 - val_loss: 0.2818 - val_accuracy: 0.8944\n",
            "Epoch 15/40\n",
            "221/221 [==============================] - 231s 1s/step - loss: 0.1356 - accuracy: 0.9438 - val_loss: 0.2658 - val_accuracy: 0.9237\n"
          ],
          "name": "stdout"
        }
      ]
    },
    {
      "cell_type": "code",
      "metadata": {
        "id": "HEbyTnUNC8dX"
      },
      "source": [
        "model_masks = load_model('/content/gdrive/My Drive/Thesis/models/DenseNet_masks-1.h5', compile=False)\n",
        "model_masks.compile(loss='binary_crossentropy',\n",
        "              optimizer=adam,\n",
        "              metrics=['accuracy'])"
      ],
      "execution_count": null,
      "outputs": []
    },
    {
      "cell_type": "code",
      "metadata": {
        "id": "FV_bHcSfCHrm",
        "colab": {
          "base_uri": "https://localhost:8080/"
        },
        "outputId": "bf3eb295-c977-487e-d8e4-216b96120816"
      },
      "source": [
        "y_pred_masks = model_masks.predict(test_set_mask)\n",
        "\n",
        "confusion_matrix(test_set_mask.labels, y_pred.round())"
      ],
      "execution_count": null,
      "outputs": [
        {
          "output_type": "execute_result",
          "data": {
            "text/plain": [
              "array([[871, 100],\n",
              "       [109, 885]])"
            ]
          },
          "metadata": {
            "tags": []
          },
          "execution_count": 27
        }
      ]
    },
    {
      "cell_type": "code",
      "metadata": {
        "id": "_NaZ5kr7EXwS",
        "colab": {
          "base_uri": "https://localhost:8080/"
        },
        "outputId": "1e2bb8db-264b-4683-c4bd-7c0c280c311f"
      },
      "source": [
        "# masked data\n",
        "model_masks.evaluate(test_set_mask)"
      ],
      "execution_count": null,
      "outputs": [
        {
          "output_type": "stream",
          "text": [
            "62/62 [==============================] - 85s 920ms/step - loss: 0.2729 - accuracy: 0.8856\n"
          ],
          "name": "stdout"
        },
        {
          "output_type": "execute_result",
          "data": {
            "text/plain": [
              "[0.25044479966163635, 0.8936386704444885]"
            ]
          },
          "metadata": {
            "tags": []
          },
          "execution_count": 28
        }
      ]
    },
    {
      "cell_type": "code",
      "metadata": {
        "id": "RhD_gRpnFBdK",
        "colab": {
          "base_uri": "https://localhost:8080/",
          "height": 295
        },
        "outputId": "d9dbcc58-28db-451a-8b74-6ac237bd2394"
      },
      "source": [
        "# Plot train and validation accuracy of the model trained on original data\n",
        "plt.plot(model_history.history['accuracy'])\n",
        "plt.plot(model_history.history['val_accuracy'])\n",
        "plt.title('Original Model accuracy values')\n",
        "plt.ylabel('Accuracy')\n",
        "plt.xlabel('Epoch')\n",
        "plt.legend(['Train', 'Validation'], loc='upper left')\n",
        "plt.show()"
      ],
      "execution_count": null,
      "outputs": [
        {
          "output_type": "display_data",
          "data": {
            "image/png": "[encoded data removed]",
            "text/plain": [
              "<Figure size 432x288 with 1 Axes>"
            ]
          },
          "metadata": {
            "tags": [],
            "needs_background": "light"
          }
        }
      ]
    },
    {
      "cell_type": "code",
      "metadata": {
        "colab": {
          "base_uri": "https://localhost:8080/",
          "height": 295
        },
        "id": "nV7gg41G3-MJ",
        "outputId": "22ce635f-3159-45b8-a7e8-4ea1579774a7"
      },
      "source": [
        "# Plot train and validation accuracy of the model trained on original data\n",
        "plt.plot(model_history.history['loss'])\n",
        "plt.plot(model_history.history['val_loss'])\n",
        "plt.title('Original Model Loss values')\n",
        "plt.ylabel('Loss')\n",
        "plt.xlabel('Epoch')\n",
        "plt.legend(['Train', 'Validation'], loc='upper left')\n",
        "plt.show()"
      ],
      "execution_count": null,
      "outputs": [
        {
          "output_type": "display_data",
          "data": {
            "image/png": "[encoded data removed]",
            "text/plain": [
              "<Figure size 432x288 with 1 Axes>"
            ]
          },
          "metadata": {
            "tags": [],
            "needs_background": "light"
          }
        }
      ]
    },
    {
      "cell_type": "code",
      "metadata": {
        "colab": {
          "base_uri": "https://localhost:8080/",
          "height": 295
        },
        "id": "r_bkPlTM3718",
        "outputId": "f6a912e1-bd0b-42e8-f7bf-d9c6f42d7d54"
      },
      "source": [
        "# Plot train and validation accuracy of the model trained on masked data\n",
        "plt.plot(model_history_masks.history['loss'])\n",
        "plt.plot(model_history_masks.history['val_loss'])\n",
        "plt.title('Model_masks Loss values')\n",
        "plt.ylabel('Loss')\n",
        "plt.xlabel('Epoch')\n",
        "plt.legend(['Train', 'Validation'], loc='upper left')\n",
        "plt.show()"
      ],
      "execution_count": null,
      "outputs": [
        {
          "output_type": "display_data",
          "data": {
            "image/png": "[encoded data removed]",
            "text/plain": [
              "<Figure size 432x288 with 1 Axes>"
            ]
          },
          "metadata": {
            "tags": [],
            "needs_background": "light"
          }
        }
      ]
    },
    {
      "cell_type": "code",
      "metadata": {
        "id": "XHUgmcrIFCUc",
        "colab": {
          "base_uri": "https://localhost:8080/",
          "height": 295
        },
        "outputId": "24e6777a-d835-4469-ea8d-7767afa2747f"
      },
      "source": [
        "# Plot train and validation accuracy of the model trained on masked data\n",
        "plt.plot(model_history_masks.history['accuracy'])\n",
        "plt.plot(model_history_masks.history['val_accuracy'])\n",
        "plt.title('Model_masks accuracy values')\n",
        "plt.ylabel('Accuracy')\n",
        "plt.xlabel('Epoch')\n",
        "plt.legend(['Train', 'Validation'], loc='upper left')\n",
        "plt.show()"
      ],
      "execution_count": null,
      "outputs": [
        {
          "output_type": "display_data",
          "data": {
            "image/png": "[encoded data removed]",
            "text/plain": [
              "<Figure size 432x288 with 1 Axes>"
            ]
          },
          "metadata": {
            "tags": [],
            "needs_background": "light"
          }
        }
      ]
    }
  ]
}